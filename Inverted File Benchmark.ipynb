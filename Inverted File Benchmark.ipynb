{
 "cells": [
  {
   "cell_type": "markdown",
   "metadata": {
    "deletable": true,
    "editable": true
   },
   "source": [
    "# Inverted File Test\n",
    "\n",
    "This notebook has for purpose the benchmarking of an InvertedFile. Below, we will try to evaluate the efficiency of our system by measuring :\n",
    "- the space taken on disc by an inverted file of an arbitrary size \n",
    "- the time taken to write on disc an inverted file of an arbitrary size \n",
    "- the time taken to merge on disc two inverted files of an arbitrary size\n",
    "  \n",
    "Constants :  \n",
    "  \n",
    "LATIMES_PATH : string, the path to the xml files to read  "
   ]
  },
  {
   "cell_type": "code",
   "execution_count": null,
   "metadata": {
    "collapsed": true,
    "deletable": true,
    "editable": true
   },
   "outputs": [],
   "source": [
    "from pyscripts.inverted_file import InvertedFile\n",
    "from pyscripts.formatted_document import FormattedDocument\n",
    "import glob\n",
    "import xml.etree.ElementTree as ET\n",
    "from xml.etree.ElementTree import ParseError\n",
    "import matplotlib.pyplot as plt\n",
    "import numpy as np\n",
    "\n",
    "LATIMES_PATH = '../latimes'"
   ]
  },
  {
   "cell_type": "markdown",
   "metadata": {
    "deletable": true,
    "editable": true
   },
   "source": [
    "## Define utilities functions"
   ]
  },
  {
   "cell_type": "code",
   "execution_count": null,
   "metadata": {
    "collapsed": true,
    "deletable": true,
    "editable": true
   },
   "outputs": [],
   "source": [
    "def read_files(paths, n=-1):\n",
    "    \"\"\"\n",
    "    Read n files from a list of paths and convert them as xml trees. A root node <RAC> is added to every file to avoid some\n",
    "    ParseError\n",
    "    parameters :\n",
    "        - paths : enumeration of strings, a list of absolute paths where datas have to be read (datas must be xml files)\n",
    "        - n : number of files needed to be read, if -1, every possible files will be read\n",
    "    return :\n",
    "        - a list of len=(min(n, number of files) if n != -1, else number of files) of xml trees representations\n",
    "          of the documents\n",
    "    \"\"\"\n",
    "    output = []\n",
    "    for path in paths:\n",
    "        try:\n",
    "            txt = open(path, 'r').read()\n",
    "            output.append(ET.fromstring('<RAC>'+txt+'</RAC>'))\n",
    "            n -= 1\n",
    "            print('Successfully parsed document <{}>'.format(path))\n",
    "        except ParseError as e:\n",
    "            print('Can\\'t parse document <{}>. Doesn\\'t matter, skip'.format(path))\n",
    "        except IsADirectoryError:\n",
    "            print('Can\\'t parse directory <{}>. Doesn\\'t matter, skip'.format(path))\n",
    "        if n == 0:\n",
    "            return output\n",
    "    return output\n",
    "\n",
    "def score(token, document):\n",
    "    \"\"\"\n",
    "    Basic score function to make the inverted files work.\n",
    "    Doesn't have any computational interest\n",
    "    \"\"\"\n",
    "    paragraph_tokens = document['text']\n",
    "    paragraph_tokens.append(document['title'])\n",
    "    token_count = 0\n",
    "    for paragraph in paragraph_tokens:\n",
    "        for word in paragraph:\n",
    "            if word == token:\n",
    "                token_count += 1\n",
    "    return token_count"
   ]
  },
  {
   "cell_type": "markdown",
   "metadata": {
    "deletable": true,
    "editable": true
   },
   "source": [
    "## Define Benchmarking functions"
   ]
  },
  {
   "cell_type": "code",
   "execution_count": null,
   "metadata": {
    "collapsed": true,
    "deletable": true,
    "editable": true
   },
   "outputs": [],
   "source": [
    "def space_on_disc(number_of_document):\n",
    "    \"\"\"\n",
    "    Simulate the evolution of the space taken on disc in function of the number of\n",
    "    document we put in an inverted file.\n",
    "    The simulation takes place only in the size order of small datasets, when all the inverted file can fit in memory\n",
    "    :param number_of_document : integer, how many documents should be saved on disc\n",
    "    return : integer, the size of the file (in bytes) if we would save it\n",
    "    \"\"\"\n",
    "    inverted_file = InvertedFile(score)\n",
    "    files = glob.iglob(LATIMES_PATH + '/*')\n",
    "    xml_files = read_files(files, number_of_document)\n",
    "    for f in xml_files:\n",
    "        document = FormattedDocument(f)\n",
    "        for article in document.matches:\n",
    "            inverted_file.add_document(article)\n",
    "            \n",
    "    return len(inverted_file.get_object_as_array())\n",
    "    "
   ]
  },
  {
   "cell_type": "markdown",
   "metadata": {
    "deletable": true,
    "editable": true
   },
   "source": [
    "## Space on disc benchmarking"
   ]
  },
  {
   "cell_type": "code",
   "execution_count": null,
   "metadata": {
    "collapsed": false,
    "deletable": true,
    "editable": true
   },
   "outputs": [],
   "source": [
    "space_taken = []\n",
    "for n in [1, 10, 100, -1]:\n",
    "    cur_space= space_on_disc(n)\n",
    "    print(cur_space)\n",
    "    space_taken.append(cur_space)"
   ]
  },
  {
   "cell_type": "markdown",
   "metadata": {
    "deletable": true,
    "editable": true
   },
   "source": [
    "## Observation\n",
    "\n",
    "Between one and 10 documents saved, the weight of a document is approximately halved. Then it remains stable. The growth of the file size is linear in function of the number of documents"
   ]
  },
  {
   "cell_type": "code",
   "execution_count": null,
   "metadata": {
    "collapsed": false,
    "deletable": true,
    "editable": true
   },
   "outputs": [],
   "source": [
    "space_taken = np.asarray(space_taken)\n",
    "print(space_taken)\n",
    "number_of_docs = np.asarray([1, 10, 100, 730])\n",
    "unique_doc_space = space_taken / number_of_docs\n",
    "unique_doc_space /= unique_doc_space[0]\n",
    "plt.plot([1, 10, 100, 730], space_taken)\n",
    "plt.show()"
   ]
  },
  {
   "cell_type": "code",
   "execution_count": null,
   "metadata": {
    "collapsed": true,
    "deletable": true,
    "editable": true
   },
   "outputs": [],
   "source": []
  }
 ],
 "metadata": {
  "kernelspec": {
   "display_name": "Python 3",
   "language": "python",
   "name": "python3"
  },
  "language_info": {
   "codemirror_mode": {
    "name": "ipython",
    "version": 3
   },
   "file_extension": ".py",
   "mimetype": "text/x-python",
   "name": "python",
   "nbconvert_exporter": "python",
   "pygments_lexer": "ipython3",
   "version": "3.5.2"
  }
 },
 "nbformat": 4,
 "nbformat_minor": 2
}
