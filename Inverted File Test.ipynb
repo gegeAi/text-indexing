{
 "cells": [
  {
   "cell_type": "markdown",
   "metadata": {},
   "source": [
    "# Inverted File Test\n",
    "\n",
    "This notebook has for purpose the testing of the basic functionnality of the class InvertedFile. It does not contain benchmarking for the performances of the method. It provides however a good idea of how the system basically works and how it should be used.  \n",
    "  \n",
    "Constants :  \n",
    "  \n",
    "LATIMES_PATH : string, the path to the xml files to read  \n",
    "NUMBER_OF_FILE_TO_READ = integer, the number of files to be read during the test by each inverted files"
   ]
  },
  {
   "cell_type": "code",
   "execution_count": null,
   "metadata": {
    "collapsed": false,
    "deletable": true,
    "editable": true
   },
   "outputs": [],
   "source": [
    "from pyscripts.inverted_file import InvertedFile\n",
    "from pyscripts.formatted_document import FormattedDocument\n",
    "import glob\n",
    "import xml.etree.ElementTree as ET\n",
    "from xml.etree.ElementTree import ParseError\n",
    "\n",
    "LATIMES_PATH = '..\\\\latimes'\n",
    "NUMBER_OF_FILE_TO_READ = 1"
   ]
  },
  {
   "cell_type": "markdown",
   "metadata": {},
   "source": [
    "## Reading articles from files\n",
    "\n",
    "Read the files that contain the articles and convert them into json. Separate them into two inverted files for testing all the functionalities"
   ]
  },
  {
   "cell_type": "code",
   "execution_count": null,
   "metadata": {
    "collapsed": true,
    "deletable": true,
    "editable": true
   },
   "outputs": [],
   "source": [
    "def read_files(paths, n=-1):\n",
    "    \"\"\"\n",
    "    Read n files from a list of paths and convert them as xml trees. A root node <RAC> is added to every file to avoid some\n",
    "    ParseError\n",
    "    parameters :\n",
    "        - paths : enumeration of strings, a list of absolute paths where datas have to be read (datas must be xml files)\n",
    "        - n : number of files needed to be read, if -1, every possible files will be read\n",
    "    return :\n",
    "        - a list of len=(min(n, number of files) if n != -1, else number of files) of xml trees representations\n",
    "          of the documents\n",
    "    \"\"\"\n",
    "    output = []\n",
    "    for path in paths:\n",
    "        try:\n",
    "            txt = open(path, 'r').read()\n",
    "            output.append(ET.fromstring('<RAC>'+txt+'</RAC>'))\n",
    "            n -= 1\n",
    "            print('Successfully parsed document <{}>'.format(path))\n",
    "        except ParseError as e:\n",
    "            print('Can\\'t parse document <{}>. Doesn\\'t matter, skip'.format(path))\n",
    "        except IsADirectoryError:\n",
    "            print('Can\\'t parse directory <{}>. Doesn\\'t matter, skip'.format(path))\n",
    "        if n == 0:\n",
    "            return output\n",
    "    return output"
   ]
  },
  {
   "cell_type": "code",
   "execution_count": null,
   "metadata": {
    "collapsed": false,
    "deletable": true,
    "editable": true
   },
   "outputs": [],
   "source": [
    "def score(token, document):\n",
    "    \"\"\"\n",
    "    Basic score function to make the inverted files work.\n",
    "    Doesn't have any computational interest\n",
    "    \"\"\"\n",
    "    paragraph_tokens = document['text']\n",
    "    paragraph_tokens.append(document['title'])\n",
    "    token_count = 0\n",
    "    for paragraph in paragraph_tokens:\n",
    "        for word in paragraph:\n",
    "            if word == token:\n",
    "                token_count += 1\n",
    "    return token_count\n",
    "\n",
    "def load_inverted_file(xml_files):  \n",
    "    \"\"\"\n",
    "    process the creation of an inverted file an the jsonification of the xml_documents\n",
    "    to be loaded into this file\n",
    "    \"\"\"\n",
    "    inverted_file = InvertedFile(score)\n",
    "    formatted_files = []\n",
    "    for f in xml_files:\n",
    "        formatted_files.append(FormattedDocument(xml_root_doc=f))\n",
    "    return inverted_file, formatted_files\n",
    "\n",
    "files = glob.iglob(LATIMES_PATH + '\\\\*')\n",
    "xml_files = read_files(files, NUMBER_OF_FILE_TO_READ*2)\n",
    "\n",
    "inverted_file_1, formatted_documents_1 = load_inverted_file(xml_files[::2])\n",
    "inverted_file_2, formatted_documents_2 = load_inverted_file(xml_files[1::2])"
   ]
  },
  {
   "cell_type": "markdown",
   "metadata": {},
   "source": [
    "## Filling the inverted files"
   ]
  },
  {
   "cell_type": "code",
   "execution_count": null,
   "metadata": {
    "collapsed": false,
    "deletable": true,
    "editable": true
   },
   "outputs": [],
   "source": [
    "for doc in formatted_documents_1:\n",
    "    for article in doc.matches:\n",
    "        inverted_file_1.add_document(article)\n",
    "    \n",
    "for doc in formatted_documents_2:\n",
    "    for article in doc.matches:\n",
    "        inverted_file_2.add_document(article)"
   ]
  },
  {
   "cell_type": "markdown",
   "metadata": {},
   "source": [
    "## Saving inverted file on disc"
   ]
  },
  {
   "cell_type": "code",
   "execution_count": null,
   "metadata": {
    "collapsed": false,
    "deletable": true,
    "editable": true
   },
   "outputs": [],
   "source": [
    "inverted_file_1.save('test_1.sav')\n",
    "inverted_file_2.save('test_2.sav')"
   ]
  },
  {
   "cell_type": "markdown",
   "metadata": {},
   "source": [
    "## Load Inverted File"
   ]
  },
  {
   "cell_type": "code",
   "execution_count": null,
   "metadata": {
    "collapsed": false
   },
   "outputs": [],
   "source": [
    "inverted_file_loaded = InvertedFile(score)\n",
    "inverted_file_loaded.read_posting_lists(None, 'test_1.sav')"
   ]
  },
  {
   "cell_type": "code",
   "execution_count": null,
   "metadata": {
    "collapsed": false,
    "deletable": true,
    "editable": true
   },
   "outputs": [],
   "source": [
    "print(\"reference : {}\".format(inverted_file_1.map.keys()[:14]))\n",
    "print(\"loaded    : {}\".format(inverted_file_loaded.map.keys()[:14]))"
   ]
  },
  {
   "cell_type": "markdown",
   "metadata": {},
   "source": [
    "## Merge two inverted files"
   ]
  },
  {
   "cell_type": "code",
   "execution_count": null,
   "metadata": {
    "collapsed": false
   },
   "outputs": [],
   "source": [
    "InvertedFile.merge_inverted_files('test_merged.sav', 'test_1.sav', 'test_2.sav')"
   ]
  },
  {
   "cell_type": "code",
   "execution_count": null,
   "metadata": {
    "collapsed": true
   },
   "outputs": [],
   "source": []
  }
 ],
 "metadata": {
  "kernelspec": {
   "display_name": "Python 3",
   "language": "python",
   "name": "python3"
  },
  "language_info": {
   "codemirror_mode": {
    "name": "ipython",
    "version": 3
   },
   "file_extension": ".py",
   "mimetype": "text/x-python",
   "name": "python",
   "nbconvert_exporter": "python",
   "pygments_lexer": "ipython3",
   "version": "3.5.2"
  }
 },
 "nbformat": 4,
 "nbformat_minor": 2
}
