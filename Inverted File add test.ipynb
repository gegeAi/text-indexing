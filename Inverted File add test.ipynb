{
 "cells": [
  {
   "cell_type": "code",
   "execution_count": null,
   "metadata": {
    "collapsed": false,
    "deletable": true,
    "editable": true
   },
   "outputs": [],
   "source": [
    "from pyscripts.inverted_file import InvertedFile\n",
    "from pyscripts.formatted_document import FormattedDocument\n",
    "from pyscripts.tokenizer import Tokenizer\n",
    "from pyscripts.query import NaiveQuery\n",
    "from pyscripts.query import FaginQuery\n",
    "import glob\n",
    "import xml.etree.ElementTree as ET\n",
    "from xml.etree.ElementTree import ParseError"
   ]
  },
  {
   "cell_type": "code",
   "execution_count": null,
   "metadata": {
    "collapsed": true,
    "deletable": true,
    "editable": true
   },
   "outputs": [],
   "source": [
    "def read_files(paths, n=-1):\n",
    "    \"\"\"\n",
    "    Read n files from a list of paths and convert them as xml trees. A root node <RAC> is added to every file to avoid some\n",
    "    ParseError\n",
    "    parameters :\n",
    "        - paths : enumeration of strings, a list of absolute paths where datas have to be read (datas must be xml files)\n",
    "        - n : number of files needed to be read, if -1, every possible files will be read\n",
    "    return :\n",
    "        - a list of len=(min(n, number of files) if n != -1, else number of files) of xml trees representations\n",
    "          of the documents\n",
    "    \"\"\"\n",
    "    output = []\n",
    "    for path in paths:\n",
    "        try:\n",
    "            txt = open(path, 'r').read()\n",
    "            output.append(ET.fromstring('<RAC>'+txt+'</RAC>'))\n",
    "            n -= 1\n",
    "            print('Successfully parsed document <{}>'.format(path))\n",
    "        except ParseError as e:\n",
    "            print('Can\\'t parse document <{}>. Doesn\\'t matter, skip'.format(path))\n",
    "        except IsADirectoryError:\n",
    "            print('Can\\'t parse directory <{}>. Doesn\\'t matter, skip'.format(path))\n",
    "        if n == 0:\n",
    "            return output\n",
    "    return output"
   ]
  },
  {
   "cell_type": "code",
   "execution_count": null,
   "metadata": {
    "collapsed": false,
    "deletable": true,
    "editable": true,
    "scrolled": true
   },
   "outputs": [],
   "source": [
    "def score(token, document):\n",
    "    paragraph_tokens = document['text'].copy()\n",
    "    paragraph_tokens.append(document['title'])\n",
    "    token_count = 0\n",
    "    for paragraph in paragraph_tokens:\n",
    "        for word in paragraph:\n",
    "            if word == token:\n",
    "                token_count += 1\n",
    "    return token_count\n",
    "\n",
    "inverted_file = InvertedFile(score)\n",
    "\n",
    "LATIMES_PATH = './latimes'\n",
    "files = glob.iglob(LATIMES_PATH + '/*')\n",
    "xml_files = read_files(files, 1)\n",
    "fd = FormattedDocument(xml_root_doc=xml_files[0], tokenizer=Tokenizer())"
   ]
  },
  {
   "cell_type": "code",
   "execution_count": null,
   "metadata": {
    "collapsed": false,
    "deletable": true,
    "editable": true
   },
   "outputs": [],
   "source": [
    "# add the article of the loaded document to the inferted file\n",
    "for doc in fd.matches:\n",
    "    inverted_file.add_document(doc)"
   ]
  },
  {
   "cell_type": "code",
   "execution_count": null,
   "metadata": {
    "collapsed": true,
    "deletable": true,
    "editable": true
   },
   "outputs": [],
   "source": [
    "def sort_by_score(posting_list):\n",
    "    return sorted(posting_list, key=lambda x: x[1], reverse=True)"
   ]
  },
  {
   "cell_type": "code",
   "execution_count": null,
   "metadata": {
    "collapsed": false,
    "deletable": true,
    "editable": true
   },
   "outputs": [],
   "source": [
    "house_pl = inverted_file.map[\"the\"]\n",
    "divorce_pl = inverted_file.map[\"it\"]\n",
    "print(house_pl, \"\\n\\n\", divorce_pl, \"\\n\\n\")\n",
    "print(sort_by_score(house_pl), \"\\n\\n\", sort_by_score(divorce_pl))"
   ]
  },
  {
   "cell_type": "code",
   "execution_count": null,
   "metadata": {
    "collapsed": false,
    "deletable": true,
    "editable": true
   },
   "outputs": [],
   "source": [
    "query = FaginQuery(\"divorce house\", Tokenizer())\n",
    "query.execute(inverted_file)"
   ]
  },
  {
   "cell_type": "code",
   "execution_count": null,
   "metadata": {
    "collapsed": false,
    "deletable": true,
    "editable": true
   },
   "outputs": [],
   "source": [
    "naive_query = NaiveQuery(\"divorce house\", Tokenizer())\n",
    "naive_query.execute(inverted_file, 5)"
   ]
  },
  {
   "cell_type": "code",
   "execution_count": null,
   "metadata": {
    "collapsed": true,
    "deletable": true,
    "editable": true
   },
   "outputs": [],
   "source": []
  }
 ],
 "metadata": {
  "kernelspec": {
   "display_name": "Python 3",
   "language": "python",
   "name": "python3"
  },
  "language_info": {
   "codemirror_mode": {
    "name": "ipython",
    "version": 3
   },
   "file_extension": ".py",
   "mimetype": "text/x-python",
   "name": "python",
   "nbconvert_exporter": "python",
   "pygments_lexer": "ipython3",
   "version": "3.5.2"
  }
 },
 "nbformat": 4,
 "nbformat_minor": 2
}
