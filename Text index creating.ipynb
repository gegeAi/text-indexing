{
 "cells": [
  {
   "cell_type": "markdown",
   "metadata": {
    "deletable": true,
    "editable": true
   },
   "source": [
    "# Text index creating\n",
    "\n",
    "This notebook has for purpose the indexation of xml document. Below you can find an example on how it works on a few datas.\n",
    "For the moment, are functionnal :\n"
   ]
  },
  {
   "cell_type": "code",
   "execution_count": 1,
   "metadata": {
    "collapsed": false,
    "deletable": true,
    "editable": true
   },
   "outputs": [],
   "source": [
    "import glob\n",
    "import xml.etree.ElementTree as ET\n",
    "from xml.etree.ElementTree import ParseError\n",
    "from pyscripts.formatted_document import FormattedDocument\n",
    "from pyscripts.tokenizer import Tokenizer\n",
    "\n",
    "\n",
    "LATIMES_PATH = '/home/francois/Documents/INSA/5IF/text-indexing/latimes/latimes'"
   ]
  },
  {
   "cell_type": "code",
   "execution_count": 2,
   "metadata": {
    "collapsed": true,
    "deletable": true,
    "editable": true
   },
   "outputs": [],
   "source": [
    "def read_files(paths, n=-1):\n",
    "    \"\"\"\n",
    "    Read n files from a list of paths and convert them as xml trees. A root node <RAC> is added to every file to avoid some\n",
    "    ParseError\n",
    "    parameters :\n",
    "        - paths : enumeration of strings, a list of absolute paths where datas have to be read (datas must be xml files)\n",
    "        - n : number of files needed to be read, if -1, every possible files will be read\n",
    "    return :\n",
    "        - a list of len=(min(n, number of files) if n != -1, else number of files) of xml trees representations\n",
    "          of the documents\n",
    "    \"\"\"\n",
    "    output = []\n",
    "    for path in paths:\n",
    "        txt = open(path, 'r').read()\n",
    "        try:\n",
    "            output.append(ET.fromstring('<RAC>'+txt+'</RAC>'))\n",
    "            n -= 1\n",
    "            print('Successfully parsed document <{}>'.format(path))\n",
    "        except ParseError as e:\n",
    "            print(\"Can't parse document <{}>. Doesn't matter, skip\".format(path))\n",
    "        if n == 0:\n",
    "            return output\n",
    "    return output"
   ]
  },
  {
   "cell_type": "code",
   "execution_count": 3,
   "metadata": {
    "collapsed": false,
    "deletable": true,
    "editable": true
   },
   "outputs": [
    {
     "name": "stdout",
     "output_type": "stream",
     "text": [
      "Successfully parsed document </home/francois/Documents/INSA/5IF/text-indexing/latimes/latimes/la123189>\n",
      "Successfully parsed document </home/francois/Documents/INSA/5IF/text-indexing/latimes/latimes/la102989>\n",
      "Successfully parsed document </home/francois/Documents/INSA/5IF/text-indexing/latimes/latimes/la081889>\n",
      "Successfully parsed document </home/francois/Documents/INSA/5IF/text-indexing/latimes/latimes/la112889>\n",
      "Successfully parsed document </home/francois/Documents/INSA/5IF/text-indexing/latimes/latimes/la061489>\n",
      "Successfully parsed document </home/francois/Documents/INSA/5IF/text-indexing/latimes/latimes/la071389>\n",
      "Successfully parsed document </home/francois/Documents/INSA/5IF/text-indexing/latimes/latimes/la042890>\n",
      "Successfully parsed document </home/francois/Documents/INSA/5IF/text-indexing/latimes/latimes/la043089>\n",
      "Successfully parsed document </home/francois/Documents/INSA/5IF/text-indexing/latimes/latimes/la111389>\n",
      "Successfully parsed document </home/francois/Documents/INSA/5IF/text-indexing/latimes/latimes/la113089>\n",
      "10\n"
     ]
    }
   ],
   "source": [
    "files = glob.iglob(LATIMES_PATH + '/*')\n",
    "xml_files = read_files(files, 10)\n",
    "print(len(xml_files))"
   ]
  },
  {
   "cell_type": "code",
   "execution_count": 4,
   "metadata": {
    "collapsed": false,
    "deletable": true,
    "editable": true
   },
   "outputs": [
    {
     "name": "stdout",
     "output_type": "stream",
     "text": [
      "[nltk_data] Downloading package punkt to /home/francois/nltk_data...\n",
      "[nltk_data]   Package punkt is already up-to-date!\n"
     ]
    }
   ],
   "source": [
    "#fd = FormattedDocument(xml_root_doc=xml_files[0])\n",
    "fd = FormattedDocument(xml_root_doc=xml_files[0], tokenizer=Tokenizer())"
   ]
  },
  {
   "cell_type": "code",
   "execution_count": 5,
   "metadata": {
    "collapsed": false,
    "deletable": true,
    "editable": true
   },
   "outputs": [
    {
     "data": {
      "text/plain": [
       "['In',\n",
       " 'the',\n",
       " 'fiction',\n",
       " 'world',\n",
       " 'of',\n",
       " 'richard',\n",
       " 'rive',\n",
       " 'a',\n",
       " 'black',\n",
       " 'south',\n",
       " 'african',\n",
       " 'writer',\n",
       " 'the',\n",
       " 'social',\n",
       " 'evil',\n",
       " 'of',\n",
       " 'apartheid',\n",
       " 'appear',\n",
       " 'in',\n",
       " 'the',\n",
       " 'guis',\n",
       " 'of',\n",
       " 'a',\n",
       " 'banal',\n",
       " 'so',\n",
       " 'extrem',\n",
       " 'it',\n",
       " 'can',\n",
       " 'be',\n",
       " 'express',\n",
       " 'onli',\n",
       " 'in',\n",
       " 'the',\n",
       " 'form',\n",
       " 'of',\n",
       " 'darkli',\n",
       " 'comic',\n",
       " 'kafkaesqu',\n",
       " 'parabl',\n",
       " 'for',\n",
       " 'exampl',\n",
       " 'in',\n",
       " 'hi',\n",
       " 'stori',\n",
       " 'the',\n",
       " 'man',\n",
       " 'from',\n",
       " 'the',\n",
       " 'board',\n",
       " 'a',\n",
       " 'teacher',\n",
       " 'name',\n",
       " 'isaac',\n",
       " 'jacob',\n",
       " 'is',\n",
       " 'call',\n",
       " 'upon',\n",
       " 'by',\n",
       " 'a',\n",
       " 'dumpi',\n",
       " 'littl',\n",
       " 'man',\n",
       " 'wear',\n",
       " 'a',\n",
       " 'khaki',\n",
       " 'safari',\n",
       " 'suit',\n",
       " 'thi',\n",
       " 'droll',\n",
       " 'creatur',\n",
       " 'mr.',\n",
       " 'johann',\n",
       " 'bredenkamp',\n",
       " 'arriv',\n",
       " 'to',\n",
       " 'inform',\n",
       " 'jacob',\n",
       " 'that',\n",
       " 'sinc',\n",
       " 'hi',\n",
       " 'racial',\n",
       " 'classif',\n",
       " 'is',\n",
       " 'color',\n",
       " 'he',\n",
       " 'must',\n",
       " 'leav',\n",
       " 'the',\n",
       " 'white',\n",
       " 'area',\n",
       " 'where',\n",
       " 'he',\n",
       " 'is',\n",
       " 'live']"
      ]
     },
     "execution_count": 5,
     "metadata": {},
     "output_type": "execute_result"
    }
   ],
   "source": [
    "fd.matches[0]['text'][0]"
   ]
  },
  {
   "cell_type": "code",
   "execution_count": null,
   "metadata": {
    "collapsed": true,
    "deletable": true,
    "editable": true
   },
   "outputs": [],
   "source": []
  },
  {
   "cell_type": "code",
   "execution_count": null,
   "metadata": {
    "collapsed": true
   },
   "outputs": [],
   "source": []
  },
  {
   "cell_type": "code",
   "execution_count": null,
   "metadata": {
    "collapsed": true
   },
   "outputs": [],
   "source": []
  },
  {
   "cell_type": "code",
   "execution_count": null,
   "metadata": {
    "collapsed": true
   },
   "outputs": [],
   "source": []
  }
 ],
 "metadata": {
  "kernelspec": {
   "display_name": "Python 3",
   "language": "python",
   "name": "python3"
  },
  "language_info": {
   "codemirror_mode": {
    "name": "ipython",
    "version": 3
   },
   "file_extension": ".py",
   "mimetype": "text/x-python",
   "name": "python",
   "nbconvert_exporter": "python",
   "pygments_lexer": "ipython3",
   "version": "3.5.2"
  }
 },
 "nbformat": 4,
 "nbformat_minor": 2
}
