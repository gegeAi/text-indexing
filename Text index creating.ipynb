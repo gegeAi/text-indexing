{
 "cells": [
  {
   "cell_type": "code",
   "execution_count": 1,
   "metadata": {
    "collapsed": false,
    "deletable": true,
    "editable": true
   },
   "outputs": [
    {
     "name": "stdout",
     "output_type": "stream",
     "text": [
      "[nltk_data] Downloading package punkt to\n",
      "[nltk_data]     C:\\Users\\jerome\\AppData\\Roaming\\nltk_data...\n",
      "[nltk_data]   Package punkt is already up-to-date!\n"
     ]
    }
   ],
   "source": [
    "import glob\n",
    "import xml.etree.ElementTree as ET\n",
    "from xml.etree.ElementTree import ParseError\n",
    "from pyscripts.formatted_document import FormattedDocument\n",
    "\n",
    "\n",
    "LATIMES_PATH = 'C:\\\\Users\\\\jerome\\\\Documents\\\\pro\\\\cours 5IF\\\\OT1\\\\PC 0 indexing\\\\latimes'"
   ]
  },
  {
   "cell_type": "code",
   "execution_count": 2,
   "metadata": {
    "collapsed": true,
    "deletable": true,
    "editable": true
   },
   "outputs": [],
   "source": [
    "def read_files(paths, n=-1):\n",
    "    \"\"\"\n",
    "    Read n files from a list of paths and convert them as xml trees. A root node <RAC> is added to every file to avoid some\n",
    "    ParseError\n",
    "    parameters :\n",
    "        - paths : enumeration of strings, a list of absolute paths where datas have to be read (datas must be xml files)\n",
    "        - n : number of files needed to be read, if -1, every possible files will be read\n",
    "    return :\n",
    "        - a list of len=(min(n, number of files) if n != -1, else number of files) of xml trees representations\n",
    "          of the documents\n",
    "    \"\"\"\n",
    "    output = []\n",
    "    for path in paths:\n",
    "        txt = open(path, 'r').read()\n",
    "        try:\n",
    "            output.append(ET.fromstring('<RAC>'+txt+'</RAC>'))\n",
    "            n -= 1\n",
    "            print('Successfully parsed document <{}>'.format(path))\n",
    "        except ParseError as e:\n",
    "            print('Can\\'t parse document <{}>. Doesn\\'t matter, skip'.format(path))\n",
    "        if n == 0:\n",
    "            return output\n",
    "    return output"
   ]
  },
  {
   "cell_type": "code",
   "execution_count": 3,
   "metadata": {
    "collapsed": false,
    "deletable": true,
    "editable": true
   },
   "outputs": [
    {
     "name": "stdout",
     "output_type": "stream",
     "text": [
      "Successfully parsed document <C:\\Users\\jerome\\Documents\\pro\\cours 5IF\\OT1\\PC 0 indexing\\latimes\\la010189>\n",
      "Successfully parsed document <C:\\Users\\jerome\\Documents\\pro\\cours 5IF\\OT1\\PC 0 indexing\\latimes\\la010190>\n",
      "Successfully parsed document <C:\\Users\\jerome\\Documents\\pro\\cours 5IF\\OT1\\PC 0 indexing\\latimes\\la010289>\n",
      "Successfully parsed document <C:\\Users\\jerome\\Documents\\pro\\cours 5IF\\OT1\\PC 0 indexing\\latimes\\la010290>\n",
      "Successfully parsed document <C:\\Users\\jerome\\Documents\\pro\\cours 5IF\\OT1\\PC 0 indexing\\latimes\\la010389>\n",
      "Successfully parsed document <C:\\Users\\jerome\\Documents\\pro\\cours 5IF\\OT1\\PC 0 indexing\\latimes\\la010390>\n",
      "Successfully parsed document <C:\\Users\\jerome\\Documents\\pro\\cours 5IF\\OT1\\PC 0 indexing\\latimes\\la010489>\n",
      "Successfully parsed document <C:\\Users\\jerome\\Documents\\pro\\cours 5IF\\OT1\\PC 0 indexing\\latimes\\la010490>\n",
      "Successfully parsed document <C:\\Users\\jerome\\Documents\\pro\\cours 5IF\\OT1\\PC 0 indexing\\latimes\\la010589>\n",
      "Successfully parsed document <C:\\Users\\jerome\\Documents\\pro\\cours 5IF\\OT1\\PC 0 indexing\\latimes\\la010590>\n",
      "10\n"
     ]
    }
   ],
   "source": [
    "files = glob.iglob(LATIMES_PATH + '\\\\*')\n",
    "xml_files = read_files(files, 10)\n",
    "print(len(xml_files))"
   ]
  },
  {
   "cell_type": "code",
   "execution_count": 4,
   "metadata": {
    "collapsed": false,
    "deletable": true,
    "editable": true
   },
   "outputs": [],
   "source": [
    "fd = FormattedDocument(xml_root_doc=xml_files[0])"
   ]
  },
  {
   "cell_type": "code",
   "execution_count": 6,
   "metadata": {
    "collapsed": false
   },
   "outputs": [
    {
     "data": {
      "text/plain": [
       "['The',\n",
       " 'onset',\n",
       " 'of',\n",
       " 'the',\n",
       " 'new',\n",
       " 'Gorbachev',\n",
       " 'policy',\n",
       " 'of',\n",
       " 'glasnost',\n",
       " ',',\n",
       " 'commonly',\n",
       " 'mistranslated',\n",
       " 'as',\n",
       " 'openness',\n",
       " 'but',\n",
       " 'closer',\n",
       " 'in',\n",
       " 'connotation',\n",
       " 'to',\n",
       " 'candor',\n",
       " 'or',\n",
       " 'publicizing',\n",
       " ',',\n",
       " 'has',\n",
       " 'complicated',\n",
       " 'the',\n",
       " 'task',\n",
       " 'of',\n",
       " 'Soviet',\n",
       " 'secret-keepers',\n",
       " 'and',\n",
       " 'has',\n",
       " 'allowed',\n",
       " 'substantial',\n",
       " 'new',\n",
       " 'Western',\n",
       " 'insights',\n",
       " 'into',\n",
       " 'Soviet',\n",
       " 'society',\n",
       " '.',\n",
       " 'David',\n",
       " 'R.',\n",
       " 'Marples',\n",
       " \"'\",\n",
       " 'new',\n",
       " 'book',\n",
       " ',',\n",
       " 'his',\n",
       " 'second',\n",
       " 'on',\n",
       " 'the',\n",
       " 'Chernobyl',\n",
       " 'accident',\n",
       " 'of',\n",
       " 'April',\n",
       " '26',\n",
       " ',',\n",
       " '1986',\n",
       " ',',\n",
       " 'is',\n",
       " 'a',\n",
       " 'shining',\n",
       " 'example',\n",
       " 'of',\n",
       " 'the',\n",
       " 'best',\n",
       " 'type',\n",
       " 'of',\n",
       " 'non-Soviet',\n",
       " 'analysis',\n",
       " 'into',\n",
       " 'topics',\n",
       " 'that',\n",
       " 'only',\n",
       " 'recently',\n",
       " 'were',\n",
       " 'absolutely',\n",
       " 'taboo',\n",
       " 'in',\n",
       " 'Moscow',\n",
       " 'official',\n",
       " 'circles',\n",
       " '.']"
      ]
     },
     "execution_count": 6,
     "metadata": {},
     "output_type": "execute_result"
    }
   ],
   "source": [
    "fd.matches[0]['text'][0]"
   ]
  },
  {
   "cell_type": "code",
   "execution_count": null,
   "metadata": {
    "collapsed": true
   },
   "outputs": [],
   "source": []
  }
 ],
 "metadata": {
  "kernelspec": {
   "display_name": "Python 3",
   "language": "python",
   "name": "python3"
  },
  "language_info": {
   "codemirror_mode": {
    "name": "ipython",
    "version": 3
   },
   "file_extension": ".py",
   "mimetype": "text/x-python",
   "name": "python",
   "nbconvert_exporter": "python",
   "pygments_lexer": "ipython3",
   "version": "3.5.2"
  }
 },
 "nbformat": 4,
 "nbformat_minor": 2
}
