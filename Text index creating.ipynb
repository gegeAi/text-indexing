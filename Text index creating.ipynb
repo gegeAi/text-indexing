{
 "cells": [
  {
   "cell_type": "markdown",
   "metadata": {
    "deletable": true,
    "editable": true
   },
   "source": [
    "# Text index creating\n",
    "\n",
    "This notebook has for purpose the indexation of xml document. Below you can find an example on how it works on a few datas.\n",
    "For the moment, are functionnal :\n"
   ]
  },
  {
   "cell_type": "code",
   "execution_count": 1,
   "metadata": {
    "collapsed": false,
    "deletable": true,
    "editable": true
   },
   "outputs": [
    {
     "name": "stdout",
     "output_type": "stream",
     "text": [
      "[nltk_data] Downloading package punkt to /home/nicolas/nltk_data...\n",
      "[nltk_data]   Unzipping tokenizers/punkt.zip.\n"
     ]
    }
   ],
   "source": [
    "import glob\n",
    "import xml.etree.ElementTree as ET\n",
    "from xml.etree.ElementTree import ParseError\n",
    "from pyscripts.formatted_document import FormattedDocument\n",
    "\n",
    "\n",
    "LATIMES_PATH = '/home/nicolas/Documents/Programation/Python/text-indexing/latimes'"
   ]
  },
  {
   "cell_type": "code",
   "execution_count": 9,
   "metadata": {
    "collapsed": true,
    "deletable": true,
    "editable": true
   },
   "outputs": [],
   "source": [
    "def read_files(paths, n=-1):\n",
    "    \"\"\"\n",
    "    Read n files from a list of paths and convert them as xml trees. A root node <RAC> is added to every file to avoid some\n",
    "    ParseError\n",
    "    parameters :\n",
    "        - paths : enumeration of strings, a list of absolute paths where datas have to be read (datas must be xml files)\n",
    "        - n : number of files needed to be read, if -1, every possible files will be read\n",
    "    return :\n",
    "        - a list of len=(min(n, number of files) if n != -1, else number of files) of xml trees representations\n",
    "          of the documents\n",
    "    \"\"\"\n",
    "    output = []\n",
    "    for path in paths:\n",
    "        try:\n",
    "            txt = open(path, 'r').read()\n",
    "            output.append(ET.fromstring('<RAC>'+txt+'</RAC>'))\n",
    "            n -= 1\n",
    "            print('Successfully parsed document <{}>'.format(path))\n",
    "        except ParseError as e:\n",
    "            print('Can\\'t parse document <{}>. Doesn\\'t matter, skip'.format(path))\n",
    "        except IsADirectoryError:\n",
    "            print('Can\\'t parse directory <{}>. Doesn\\'t matter, skip'.format(path))\n",
    "        if n == 0:\n",
    "            return output\n",
    "    return output"
   ]
  },
  {
   "cell_type": "code",
   "execution_count": 11,
   "metadata": {
    "collapsed": false,
    "deletable": true,
    "editable": true
   },
   "outputs": [
    {
     "name": "stdout",
     "output_type": "stream",
     "text": [
      "Successfully parsed document </home/nicolas/Documents/Programation/Python/text-indexing/latimes/la012290>\n",
      "Successfully parsed document </home/nicolas/Documents/Programation/Python/text-indexing/latimes/la072389>\n",
      "Successfully parsed document </home/nicolas/Documents/Programation/Python/text-indexing/latimes/la080689>\n",
      "Successfully parsed document </home/nicolas/Documents/Programation/Python/text-indexing/latimes/la070689>\n",
      "Successfully parsed document </home/nicolas/Documents/Programation/Python/text-indexing/latimes/la020890>\n",
      "Successfully parsed document </home/nicolas/Documents/Programation/Python/text-indexing/latimes/la032390>\n",
      "Successfully parsed document </home/nicolas/Documents/Programation/Python/text-indexing/latimes/la111190>\n",
      "Successfully parsed document </home/nicolas/Documents/Programation/Python/text-indexing/latimes/la042090>\n",
      "Successfully parsed document </home/nicolas/Documents/Programation/Python/text-indexing/latimes/la060390>\n",
      "Successfully parsed document </home/nicolas/Documents/Programation/Python/text-indexing/latimes/la081090>\n",
      "10\n"
     ]
    }
   ],
   "source": [
    "files = glob.iglob(LATIMES_PATH + '/*')\n",
    "xml_files = read_files(files, 10)\n",
    "print(len(xml_files))"
   ]
  },
  {
   "cell_type": "code",
   "execution_count": 12,
   "metadata": {
    "collapsed": false,
    "deletable": true,
    "editable": true
   },
   "outputs": [],
   "source": [
    "fd = FormattedDocument(xml_root_doc=xml_files[0])"
   ]
  },
  {
   "cell_type": "code",
   "execution_count": 13,
   "metadata": {
    "collapsed": false,
    "deletable": true,
    "editable": true
   },
   "outputs": [
    {
     "data": {
      "text/plain": [
       "['A',\n",
       " 'flare-up',\n",
       " 'of',\n",
       " 'gang',\n",
       " 'violence',\n",
       " 'in',\n",
       " 'Pacoima',\n",
       " 'over',\n",
       " 'the',\n",
       " 'weekend',\n",
       " 'claimed',\n",
       " 'the',\n",
       " 'life',\n",
       " 'of',\n",
       " 'a',\n",
       " '17-year-old',\n",
       " 'girl',\n",
       " 'and',\n",
       " 'left',\n",
       " 'four',\n",
       " 'other',\n",
       " 'young',\n",
       " 'people',\n",
       " 'in',\n",
       " 'the',\n",
       " 'hospital',\n",
       " '.']"
      ]
     },
     "execution_count": 13,
     "metadata": {},
     "output_type": "execute_result"
    }
   ],
   "source": [
    "fd.matches[0]['text'][0]"
   ]
  },
  {
   "cell_type": "code",
   "execution_count": null,
   "metadata": {
    "collapsed": true,
    "deletable": true,
    "editable": true
   },
   "outputs": [],
   "source": []
  },
  {
   "cell_type": "code",
   "execution_count": null,
   "metadata": {
    "collapsed": true
   },
   "outputs": [],
   "source": []
  }
 ],
 "metadata": {
  "kernelspec": {
   "display_name": "Python 3",
   "language": "python",
   "name": "python3"
  },
  "language_info": {
   "codemirror_mode": {
    "name": "ipython",
    "version": 3
   },
   "file_extension": ".py",
   "mimetype": "text/x-python",
   "name": "python",
   "nbconvert_exporter": "python",
   "pygments_lexer": "ipython3",
   "version": "3.6.1"
  }
 },
 "nbformat": 4,
 "nbformat_minor": 2
}
