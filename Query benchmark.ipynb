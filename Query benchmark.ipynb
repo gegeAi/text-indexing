{
 "cells": [
  {
   "cell_type": "markdown",
   "metadata": {
    "deletable": true,
    "editable": true
   },
   "source": [
    "# Query benchmark\n",
    "This notebook has for purpose to benchmark the time to execute queries, with different parameters, as the length of the query or the number of returned document.\n",
    "\n",
    "## Constants:\n",
    "* DEFAULT_QUERY : Query used as default when the length of the query is constant. Sub-query will be extracted from this query when the length of the query vary\n",
    "* DEFAULT_TOP_K : Number of document used as default when it is not involved in the current benchmark.\n",
    "* INVERTED_FILE_PATH : The path to the inverted file"
   ]
  },
  {
   "cell_type": "code",
   "execution_count": null,
   "metadata": {
    "collapsed": false,
    "deletable": true,
    "editable": true
   },
   "outputs": [],
   "source": [
    "import time\n",
    "\n",
    "from pyscripts.query import FaginQuery\n",
    "from pyscripts.query import NaiveQuery\n",
    "from pyscripts.tokenizer import Tokenizer\n",
    "\n",
    "\n",
    "DEFAULT_QUERY = \"the be to of and a in that have I it for not on with he as you do at this but his by from they we \" \\\n",
    "                + \"say her she\"\n",
    "DEFAULT_TOP_K = 10\n",
    "INVERTED_FILE_PATH = \"inverted_file/inverted_file_80.if\""
   ]
  },
  {
   "cell_type": "markdown",
   "metadata": {
    "deletable": true,
    "editable": true
   },
   "source": [
    "## Influence of the length of the query with Fagin's algorithm"
   ]
  },
  {
   "cell_type": "code",
   "execution_count": null,
   "metadata": {
    "collapsed": false,
    "deletable": true,
    "editable": true
   },
   "outputs": [],
   "source": [
    "max_splitted = DEFAULT_QUERY.split()\n",
    "number_of_terms = len(max_splitted)\n",
    "\n",
    "while number_of_terms > 0:\n",
    "    query = \" \".join(max_splitted[:number_of_terms])\n",
    "    print(\"Begin to execute queries with {} terms\".format(number_of_terms))\n",
    "    print(query)\n",
    "    start_time = time.time()\n",
    "    fagin_query = FaginQuery(query, Tokenizer(), INVERTED_FILE_PATH)\n",
    "    print(fagin_query.execute(DEFAULT_TOP_K))\n",
    "    end_time = time.time()\n",
    "    print(\"number_of_terms : \" + str(number_of_terms) + \" time : \" + str(end_time - start_time) + \"\\n\")\n",
    "    number_of_terms -= 1"
   ]
  },
  {
   "cell_type": "markdown",
   "metadata": {
    "deletable": true,
    "editable": true
   },
   "source": [
    "## Influence of the length of the query with a naive algorithm"
   ]
  },
  {
   "cell_type": "code",
   "execution_count": null,
   "metadata": {
    "collapsed": false,
    "deletable": true,
    "editable": true
   },
   "outputs": [],
   "source": [
    "max_splitted = DEFAULT_QUERY.split()\n",
    "number_of_terms = len(max_splitted)\n",
    "\n",
    "while number_of_terms > 0:\n",
    "    query = \" \".join(max_splitted[:number_of_terms])\n",
    "    print(\"Begin to execute queries with {} terms\".format(number_of_terms))\n",
    "    print(query)\n",
    "    start_time = time.time()\n",
    "    naive_query = NaiveQuery(query, Tokenizer(), INVERTED_FILE_PATH)\n",
    "    print(naive_query.execute(DEFAULT_TOP_K))\n",
    "    end_time = time.time()\n",
    "    print(\"number_of_terms : \" + str(number_of_terms) + \" time : \" + str(end_time - start_time) + \"\\n\")\n",
    "    number_of_terms -= 1"
   ]
  },
  {
   "cell_type": "markdown",
   "metadata": {
    "collapsed": false,
    "deletable": true,
    "editable": true
   },
   "source": [
    "## Influence of the length of the return with Fagin's algorithm"
   ]
  },
  {
   "cell_type": "code",
   "execution_count": null,
   "metadata": {
    "collapsed": false,
    "deletable": true,
    "editable": true,
    "scrolled": true
   },
   "outputs": [],
   "source": [
    "top_k = DEFAULT_TOP_K\n",
    "query = DEFAULT_QUERY\n",
    "while top_k > 0:\n",
    "    print(\"Begin to execute queries with top_k = {}\".format(top_k))\n",
    "    print(query)\n",
    "    start_time = time.time()\n",
    "    fagin_query = FaginQuery(query, Tokenizer(), INVERTED_FILE_PATH)\n",
    "    print(fagin_query.execute(top_k))\n",
    "    end_time = time.time()\n",
    "    print(\"top_k : \" + str(top_k) + \" time : \" + str(end_time - start_time) + \"\\n\")\n",
    "    top_k -= 1"
   ]
  },
  {
   "cell_type": "markdown",
   "metadata": {
    "deletable": true,
    "editable": true
   },
   "source": [
    "## Influence of the length of the return with a naive algorithm"
   ]
  },
  {
   "cell_type": "code",
   "execution_count": null,
   "metadata": {
    "collapsed": true,
    "deletable": true,
    "editable": true
   },
   "outputs": [],
   "source": [
    "top_k = DEFAULT_TOP_K\n",
    "query = DEFAULT_QUERY\n",
    "while top_k > 0:\n",
    "    print(\"Begin to execute queries with top_k = {}\".format(top_k))\n",
    "    print(query)\n",
    "    start_time = time.time()\n",
    "    naive_query = NaiveQuery(query, Tokenizer(), INVERTED_FILE_PATH)\n",
    "    print(naive_query.execute(top_k))\n",
    "    end_time = time.time()\n",
    "    print(\"top_k : \" + str(top_k) + \" time : \" + str(end_time - start_time) + \"\\n\")\n",
    "    top_k -= 1"
   ]
  },
  {
   "cell_type": "code",
   "execution_count": null,
   "metadata": {
    "collapsed": false,
    "deletable": true,
    "editable": true
   },
   "outputs": [],
   "source": []
  },
  {
   "cell_type": "code",
   "execution_count": null,
   "metadata": {
    "collapsed": false,
    "deletable": true,
    "editable": true
   },
   "outputs": [],
   "source": []
  },
  {
   "cell_type": "code",
   "execution_count": null,
   "metadata": {
    "collapsed": true,
    "deletable": true,
    "editable": true
   },
   "outputs": [],
   "source": []
  }
 ],
 "metadata": {
  "kernelspec": {
   "display_name": "Python 3",
   "language": "python",
   "name": "python3"
  },
  "language_info": {
   "codemirror_mode": {
    "name": "ipython",
    "version": 3
   },
   "file_extension": ".py",
   "mimetype": "text/x-python",
   "name": "python",
   "nbconvert_exporter": "python",
   "pygments_lexer": "ipython3",
   "version": "3.5.2"
  }
 },
 "nbformat": 4,
 "nbformat_minor": 2
}
